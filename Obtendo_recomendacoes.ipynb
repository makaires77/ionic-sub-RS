{
 "cells": [
  {
   "cell_type": "markdown",
   "metadata": {},
   "source": [
    "# Explorando o espaço dos compostos químicos com um sistema de recomendação gráfica\n",
    "\n",
    "Neste caderno demonstramos várias maneiras pelas quais nosso sistema de recomendação de grafos (GR) pode ser usado para explorar o espaço de compostos químicos. Primeiro exemplificamos (1) como obter recomendações ao longo da hiperdireção composicional, demonstrando como recomendar novas ocupações de sítios atômicos. Em seguida, mostramos (2) como o GR pode produzir recomendações ao longo da hiperdireção estrutural, recomendando novas estruturas cristalinas para uma composição química específica. Finalmente, mostramos (3) como obter recomendações ao longo de hiperdireções híbridas (composicional-estruturais): demonstramos como obter recomendações de locais para um determinado átomo ocupar; também mostramos como extrair recomendações de novos compostos e estruturas em um determinado sistema químico."
   ]
  },
  {
   "cell_type": "markdown",
   "metadata": {},
   "source": [
    "## 1. Recomendações ao longo da hiperdireção composicional"
   ]
  },
  {
   "cell_type": "markdown",
   "metadata": {},
   "source": [
    "### 1.1 Demonstrando recomendações de ocupação de locais atômicos\n",
    "\n",
    "Esta seção orienta você através do processo de obtenção de novas ocupações de sítios atômicos com base em um determinado ID OQMD que representa um protótipo estrutural de interesse ou em um arquivo de estrutura cristalina.\n",
    "\n",
    "Como exemplo, focaremos no protótipo de estrutura cristalina de [$\\text{CsV}_3\\text{Sb}_5$](https://journals.aps.org/prl/abstract/10.1103/PhysRevLett.125.247002) , um composto que recentemente despertou interesse por suas novas propriedades. A visualização desta estrutura cristalina única é mostrada abaixo:\n",
    "\n",
    "<p align=\"center\">\n",
    "<img src=\"etc/kagome_structure.png\" alt=\"Crystal structure of CsK3Sb5\" width=\"70%\" height=\"auto\" align=\"center\">\n",
    "</p>\n",
    "\n",
    "Correspondente a esta estrutura, a entrada do OQMD com o ID: 1514955 pode ser encontrada neste [link](https://oqmd.org/materials/entry/1514955). Nosso objetivo neste caderno é demonstrar o processo de recomendação de novas ocupações de locais iônicos usando este protótipo estrutural como referência."
   ]
  },
  {
   "cell_type": "code",
   "execution_count": 1,
   "metadata": {},
   "outputs": [],
   "source": [
    "# If you are using Colab, remove the comments below and run this cell. \n",
    "\n",
    "# !pip install gitpython\n",
    "\n",
    "#import git\n",
    "#import os\n",
    "\n",
    "#git.Repo.clone_from('https://github.com/simcomat/ionic-sub-RS', '/content/ionic-sub-RS')\n",
    "#os.chdir('/content/ionic-sub-RS')\n",
    "# !pip install -r requirements.txt"
   ]
  },
  {
   "cell_type": "code",
   "execution_count": null,
   "metadata": {},
   "outputs": [],
   "source": [
    "## Conferir instalação de versões compativeis com modelo pre-treinado\n",
    "# !pip install \"scipy<1.13\"\n",
    "# !pip install --upgrade gensim\n",
    "# !pip install scikit-learn==1.2.1 joblib\n",
    "\n",
    "# !pip show scikit-learn\n",
    "# !pip show numpy\n",
    "# !pip show joblib"
   ]
  },
  {
   "cell_type": "markdown",
   "metadata": {},
   "source": [
    "As classes usadas para construir o Sistema de Recomendação são definidas no arquivo `recommender/core.py`."
   ]
  },
  {
   "cell_type": "code",
   "execution_count": 5,
   "metadata": {},
   "outputs": [],
   "source": [
    "from recommender.core import RecommenderSystem, OccupationData\n",
    "import joblib\n",
    "from gensim.models import Word2Vec\n",
    "from pymatgen.core import Element, Structure\n",
    "from pandas import DataFrame"
   ]
  },
  {
   "cell_type": "markdown",
   "metadata": {},
   "source": [
    "#### Carregando a incorporação e definindo o local dos dados\n",
    "\n",
    "Nesta seção, estabelecemos o caminho para os dados de ocupação que foram usados para construir o gráfico NetworkX. Este gráfico pode ser encontrado em `data/G100.gexf`. Simultaneamente, carregamos o modelo Word2Vec, que inclui os embeddings de íons e sites.\n",
    "\n",
    "Também carregamos o classificador Decision Tree para determinar o limite de distância aplicado no espaço de incorporação."
   ]
  },
  {
   "cell_type": "markdown",
   "metadata": {},
   "source": [
    "Aqui estamos definindo íons que não desejamos que sejam recomendados (gases nobres e elementos radioativos)"
   ]
  },
  {
   "cell_type": "code",
   "execution_count": 6,
   "metadata": {},
   "outputs": [
    {
     "data": {
      "text/html": [
       "<style>#sk-container-id-1 {color: black;background-color: white;}#sk-container-id-1 pre{padding: 0;}#sk-container-id-1 div.sk-toggleable {background-color: white;}#sk-container-id-1 label.sk-toggleable__label {cursor: pointer;display: block;width: 100%;margin-bottom: 0;padding: 0.3em;box-sizing: border-box;text-align: center;}#sk-container-id-1 label.sk-toggleable__label-arrow:before {content: \"▸\";float: left;margin-right: 0.25em;color: #696969;}#sk-container-id-1 label.sk-toggleable__label-arrow:hover:before {color: black;}#sk-container-id-1 div.sk-estimator:hover label.sk-toggleable__label-arrow:before {color: black;}#sk-container-id-1 div.sk-toggleable__content {max-height: 0;max-width: 0;overflow: hidden;text-align: left;background-color: #f0f8ff;}#sk-container-id-1 div.sk-toggleable__content pre {margin: 0.2em;color: black;border-radius: 0.25em;background-color: #f0f8ff;}#sk-container-id-1 input.sk-toggleable__control:checked~div.sk-toggleable__content {max-height: 200px;max-width: 100%;overflow: auto;}#sk-container-id-1 input.sk-toggleable__control:checked~label.sk-toggleable__label-arrow:before {content: \"▾\";}#sk-container-id-1 div.sk-estimator input.sk-toggleable__control:checked~label.sk-toggleable__label {background-color: #d4ebff;}#sk-container-id-1 div.sk-label input.sk-toggleable__control:checked~label.sk-toggleable__label {background-color: #d4ebff;}#sk-container-id-1 input.sk-hidden--visually {border: 0;clip: rect(1px 1px 1px 1px);clip: rect(1px, 1px, 1px, 1px);height: 1px;margin: -1px;overflow: hidden;padding: 0;position: absolute;width: 1px;}#sk-container-id-1 div.sk-estimator {font-family: monospace;background-color: #f0f8ff;border: 1px dotted black;border-radius: 0.25em;box-sizing: border-box;margin-bottom: 0.5em;}#sk-container-id-1 div.sk-estimator:hover {background-color: #d4ebff;}#sk-container-id-1 div.sk-parallel-item::after {content: \"\";width: 100%;border-bottom: 1px solid gray;flex-grow: 1;}#sk-container-id-1 div.sk-label:hover label.sk-toggleable__label {background-color: #d4ebff;}#sk-container-id-1 div.sk-serial::before {content: \"\";position: absolute;border-left: 1px solid gray;box-sizing: border-box;top: 0;bottom: 0;left: 50%;z-index: 0;}#sk-container-id-1 div.sk-serial {display: flex;flex-direction: column;align-items: center;background-color: white;padding-right: 0.2em;padding-left: 0.2em;position: relative;}#sk-container-id-1 div.sk-item {position: relative;z-index: 1;}#sk-container-id-1 div.sk-parallel {display: flex;align-items: stretch;justify-content: center;background-color: white;position: relative;}#sk-container-id-1 div.sk-item::before, #sk-container-id-1 div.sk-parallel-item::before {content: \"\";position: absolute;border-left: 1px solid gray;box-sizing: border-box;top: 0;bottom: 0;left: 50%;z-index: -1;}#sk-container-id-1 div.sk-parallel-item {display: flex;flex-direction: column;z-index: 1;position: relative;background-color: white;}#sk-container-id-1 div.sk-parallel-item:first-child::after {align-self: flex-end;width: 50%;}#sk-container-id-1 div.sk-parallel-item:last-child::after {align-self: flex-start;width: 50%;}#sk-container-id-1 div.sk-parallel-item:only-child::after {width: 0;}#sk-container-id-1 div.sk-dashed-wrapped {border: 1px dashed gray;margin: 0 0.4em 0.5em 0.4em;box-sizing: border-box;padding-bottom: 0.4em;background-color: white;}#sk-container-id-1 div.sk-label label {font-family: monospace;font-weight: bold;display: inline-block;line-height: 1.2em;}#sk-container-id-1 div.sk-label-container {text-align: center;}#sk-container-id-1 div.sk-container {/* jupyter's `normalize.less` sets `[hidden] { display: none; }` but bootstrap.min.css set `[hidden] { display: none !important; }` so we also need the `!important` here to be able to override the default hidden behavior on the sphinx rendered scikit-learn.org. See: https://github.com/scikit-learn/scikit-learn/issues/21755 */display: inline-block !important;position: relative;}#sk-container-id-1 div.sk-text-repr-fallback {display: none;}</style><div id=\"sk-container-id-1\" class=\"sk-top-container\"><div class=\"sk-text-repr-fallback\"><pre>DecisionTreeClassifier(max_depth=1)</pre><b>In a Jupyter environment, please rerun this cell to show the HTML representation or trust the notebook. <br />On GitHub, the HTML representation is unable to render, please try loading this page with nbviewer.org.</b></div><div class=\"sk-container\" hidden><div class=\"sk-item\"><div class=\"sk-estimator sk-toggleable\"><input class=\"sk-toggleable__control sk-hidden--visually\" id=\"sk-estimator-id-1\" type=\"checkbox\" checked><label for=\"sk-estimator-id-1\" class=\"sk-toggleable__label sk-toggleable__label-arrow\">DecisionTreeClassifier</label><div class=\"sk-toggleable__content\"><pre>DecisionTreeClassifier(max_depth=1)</pre></div></div></div></div></div>"
      ],
      "text/plain": [
       "DecisionTreeClassifier(max_depth=1)"
      ]
     },
     "execution_count": 6,
     "metadata": {},
     "output_type": "execute_result"
    }
   ],
   "source": [
    "clf = joblib.load(f'models/decision_tree_100.joblib')\n",
    "clf"
   ]
  },
  {
   "cell_type": "code",
   "execution_count": 7,
   "metadata": {},
   "outputs": [],
   "source": [
    "json_file_path = 'data/occupancy_data.json.gz'\n",
    "\n",
    "model = Word2Vec.load(f'models/word2vec_100.model')\n",
    "embedding = model.wv\n",
    "\n",
    "clf = joblib.load(f'models/decision_tree_100.joblib')\n",
    "distance_threshold = clf.tree_.threshold[0]"
   ]
  },
  {
   "cell_type": "code",
   "execution_count": 8,
   "metadata": {},
   "outputs": [
    {
     "data": {
      "text/plain": [
       "['Xe', 'Kr', 'Ar', 'Ne', 'He', 'Tc', 'Pu', 'Np', 'U', 'Pa', 'Th', 'Ac', 'Pm']"
      ]
     },
     "execution_count": 8,
     "metadata": {},
     "output_type": "execute_result"
    }
   ],
   "source": [
    "ions = ['Xe', 'Kr', 'Ar', 'Ne', 'He', 'I', 'Br', 'Cl', 'F', 'Te', 'Se', 'S', 'O', 'Bi', 'Sb', 'As', 'P', 'N', 'Pb', 'Sn', 'Ge', 'Si', 'C', 'Tl', 'In', 'Ga', 'Al', 'B', 'Hg', 'Cd', 'Zn', 'Au', 'Ag', 'Cu', 'Pt', 'Pd', 'Ni', 'Ir', 'Rh', 'Co', 'Os', 'Ru', 'Fe', 'Re', 'Tc', 'Mn', 'W', 'Mo', 'Cr', 'Ta', 'Nb', 'V', 'Hf', 'Zr', 'Ti', 'Pu', 'Np', 'U', 'Pa', 'Th', 'Ac', 'Lu', 'Yb', 'Tm', 'Er', 'Ho', 'Dy', 'Tb', 'Gd', 'Eu', 'Sm', 'Pm', 'Nd', 'Pr', 'Ce', 'La', 'Y', 'Sc', 'Ba', 'Sr', 'Ca', 'Mg', 'Be', 'Cs', 'Rb', 'K', 'Na', 'Li', 'H']\n",
    "ion_forbidden_list = [ion for ion in ions if (Element(ion).Z > 83 or \n",
    "                                              ion in ['Tc', 'Pm'] or\n",
    "                                              Element(ion).group == 18)]\n",
    "ion_forbidden_list "
   ]
  },
  {
   "cell_type": "markdown",
   "metadata": {},
   "source": [
    "Primeiro, criamos um objeto `OccupationData` com o caminho do arquivo json compactado."
   ]
  },
  {
   "cell_type": "code",
   "execution_count": 9,
   "metadata": {},
   "outputs": [],
   "source": [
    "occupation_data = OccupationData(json_file_path)"
   ]
  },
  {
   "cell_type": "markdown",
   "metadata": {},
   "source": [
    "Nesta fase, recuperamos um objeto `AnonymousMotif` para um ID OQMD específico. Este objeto encapsula todos os dados da estrutura cristalina, conforme definido pelo conceito Anonymous Motif descrito no artigo. Essas informações centradas na estrutura são a base para gerar nossas recomendações de ocupação de locais iônicos."
   ]
  },
  {
   "cell_type": "code",
   "execution_count": 10,
   "metadata": {},
   "outputs": [],
   "source": [
    "kagome_id = 1514955\n",
    "kagome_AM = occupation_data.get_AM_from_OQMD_id(kagome_id)"
   ]
  },
  {
   "cell_type": "markdown",
   "metadata": {},
   "source": [
    "O objeto `AnonymousMotif` fornece um protótipo de estrutura Pymatgen consistindo exclusivamente de átomos de carbono (C). Ele também vem com índices de sites equivalentes. Após receber as recomendações de ocupação, esses recursos podem ser utilizados para executar substituições iônicas, transformando efetivamente o protótipo em novas estruturas materiais."
   ]
  },
  {
   "cell_type": "code",
   "execution_count": 11,
   "metadata": {},
   "outputs": [
    {
     "data": {
      "text/plain": [
       "Structure Summary\n",
       "Lattice\n",
       "    abc : 5.469073129 5.469073129363581 9.384302298\n",
       " angles : 90.0 90.0 120.00000000384938\n",
       " volume : 243.08607542522887\n",
       "      A : 5.469073129 0.0 0.0\n",
       "      B : -2.734536565 4.736356265 0.0\n",
       "      C : 0.0 0.0 9.384302298\n",
       "    pbc : True True True\n",
       "PeriodicSite: C (0.0, 0.0, 0.0) [0.0, 0.0, 0.0]\n",
       "PeriodicSite: C (2.735, 1.579, 2.411) [0.6667, 0.3333, 0.2569]\n",
       "PeriodicSite: C (-3.333e-10, 3.158, 2.411) [0.3333, 0.6667, 0.2569]\n",
       "PeriodicSite: C (0.0, 0.0, 4.692) [0.0, 0.0, 0.5]\n",
       "PeriodicSite: C (2.735, 1.579, 6.974) [0.6667, 0.3333, 0.7431]\n",
       "PeriodicSite: C (-3.333e-10, 3.158, 6.974) [0.3333, 0.6667, 0.7431]\n",
       "PeriodicSite: C (2.735, 0.0, 4.692) [0.5, 0.0, 0.5]\n",
       "PeriodicSite: C (-1.367, 2.368, 4.692) [0.0, 0.5, 0.5]\n",
       "PeriodicSite: C (1.367, 2.368, 4.692) [0.5, 0.5, 0.5]"
      ]
     },
     "execution_count": 11,
     "metadata": {},
     "output_type": "execute_result"
    }
   ],
   "source": [
    "kagome_AM.example_structure"
   ]
  },
  {
   "cell_type": "code",
   "execution_count": 12,
   "metadata": {},
   "outputs": [
    {
     "data": {
      "text/plain": [
       "[0, 1, 1, 3, 1, 1, 6, 6, 6]"
      ]
     },
     "execution_count": 12,
     "metadata": {},
     "output_type": "execute_result"
    }
   ],
   "source": [
    "kagome_AM.equivalent_sites_indexes"
   ]
  },
  {
   "cell_type": "markdown",
   "metadata": {},
   "source": [
    "A seguir, instanciaremos um objeto `RecommenderSystem`. Este processo envolve a integração de vários elementos, incluindo `OccupationData`, incorporações de nós, um limite de distância predefinido (fornecido pela árvore de decisão treinada) e uma lista de íons que são considerados inadequados para inclusão (`ion_forbidden_list`).\n",
    "\n",
    "Pode-se refinar ainda mais as recomendações do modelo definindo um limite de distância menor, o que torna o processo de recomendação mais rigoroso."
   ]
  },
  {
   "cell_type": "code",
   "execution_count": 13,
   "metadata": {},
   "outputs": [],
   "source": [
    "rs = RecommenderSystem(occupation_data=occupation_data, \n",
    "                       embedding=embedding, \n",
    "                       distance_threshold=distance_threshold, \n",
    "                       ion_forbidden_list=ion_forbidden_list)"
   ]
  },
  {
   "cell_type": "markdown",
   "metadata": {},
   "source": [
    "Para gerar recomendações para esta estrutura de protótipo, alimentamos o `AnonymousMotif` - derivado do ID OQMD - no método `get_recommendations_for_AM` do `RecommenderSystem`. A saída é um dicionário onde cada chave corresponde a um objeto `AMsite` representando um site específico do Anonymous Motif. Cada chave está associada a um valor que compreende uma lista de íons recomendados para aquele site específico.\n",
    "\n",
    "As recomendações são expressas como tuplas no formato `(íon, distância íon-sítio, nova ocupação)`. Aqui, 'nova ocupação' indica se a ocupação sugerida do local iônico representa uma nova variante dentro do conjunto composto OQMD (o conjunto de dados usado para construir o sistema de recomendação). As recomendações são classificadas com base na distância íon-local.\n",
    "\n",
    "É importante ressaltar que as chaves `AMSite` exibem seus respectivos índices de site. Esses índices fazem referência a locais específicos em `AnonymousMotif.example_structure` onde os íons recomendados devem ser substituídos, fornecendo assim um mapeamento claro para possíveis novos compostos."
   ]
  },
  {
   "cell_type": "code",
   "execution_count": 14,
   "metadata": {},
   "outputs": [
    {
     "data": {
      "text/plain": [
       "{'191_9_1(6/mmm)_1(6/mmm)_3(mmm)_4(3m)_0[0:1(6/mmm)]': [('Rb',\n",
       "   0.018323421478271484,\n",
       "   False),\n",
       "  ('K', 0.021883368492126465, False),\n",
       "  ('Cs', 0.02744007110595703, False),\n",
       "  ('Tl', 0.1181100606918335, False),\n",
       "  ('Na', 0.13025522232055664, False),\n",
       "  ('Ba', 0.26111143827438354, True)],\n",
       " '191_9_1(6/mmm)_1(6/mmm)_3(mmm)_4(3m)_0[1:1(6/mmm)]': [('Sb',\n",
       "   0.003526031970977783,\n",
       "   False),\n",
       "  ('Bi', 0.028452038764953613, False),\n",
       "  ('As', 0.07530730962753296, False),\n",
       "  ('P', 0.15748441219329834, False),\n",
       "  ('Ir', 0.24137485027313232, True),\n",
       "  ('Pt', 0.28948670625686646, True),\n",
       "  ('Ta', 0.2916147708892822, True),\n",
       "  ('Re', 0.30770790576934814, True),\n",
       "  ('Rh', 0.3191390037536621, True),\n",
       "  ('Au', 0.3234303593635559, True),\n",
       "  ('Os', 0.3247630000114441, True)],\n",
       " '191_9_1(6/mmm)_1(6/mmm)_3(mmm)_4(3m)_0[2:3(mmm)]': [('V',\n",
       "   0.03470265865325928,\n",
       "   False),\n",
       "  ('Nb', 0.07285189628601074, False),\n",
       "  ('Ta', 0.08547395467758179, False),\n",
       "  ('Mn', 0.08579063415527344, False),\n",
       "  ('Ti', 0.09940117597579956, True),\n",
       "  ('Cr', 0.10330319404602051, False),\n",
       "  ('Mo', 0.1266164779663086, False),\n",
       "  ('Re', 0.13882142305374146, True),\n",
       "  ('Fe', 0.15163779258728027, False),\n",
       "  ('Hf', 0.1933293342590332, True),\n",
       "  ('W', 0.19937950372695923, False),\n",
       "  ('Co', 0.20058012008666992, False),\n",
       "  ('Zr', 0.2026851773262024, True),\n",
       "  ('Ru', 0.20331484079360962, False),\n",
       "  ('Os', 0.2060876488685608, True),\n",
       "  ('Rh', 0.2088640332221985, False),\n",
       "  ('Ir', 0.2478635311126709, False),\n",
       "  ('Ni', 0.2988765835762024, True),\n",
       "  ('Sc', 0.29932737350463867, True),\n",
       "  ('Li', 0.3114703893661499, True),\n",
       "  ('Mg', 0.31176626682281494, True),\n",
       "  ('Hg', 0.3180515170097351, True),\n",
       "  ('Be', 0.3222390413284302, True)],\n",
       " '191_9_1(6/mmm)_1(6/mmm)_3(mmm)_4(3m)_0[3:4(3m)]': [('Sb',\n",
       "   0.00397723913192749,\n",
       "   False),\n",
       "  ('Bi', 0.027190864086151123, False),\n",
       "  ('As', 0.07546067237854004, False),\n",
       "  ('P', 0.16013312339782715, False),\n",
       "  ('Ir', 0.22934401035308838, True),\n",
       "  ('Pt', 0.27446162700653076, True),\n",
       "  ('Ta', 0.3013013005256653, True),\n",
       "  ('Re', 0.30615705251693726, True),\n",
       "  ('Rh', 0.3063144087791443, True),\n",
       "  ('Au', 0.312666654586792, True),\n",
       "  ('Os', 0.31777429580688477, True),\n",
       "  ('Pd', 0.3245565891265869, True)]}"
      ]
     },
     "execution_count": 14,
     "metadata": {},
     "output_type": "execute_result"
    }
   ],
   "source": [
    "kagome_recommendations = rs.get_recommendation_for_AM(kagome_AM)\n",
    "kagome_recommendations"
   ]
  },
  {
   "cell_type": "markdown",
   "metadata": {},
   "source": [
    "Cada site `AnonymousMotif` pode ser acessado individualmente através do atributo `sites`. Isso fornece flexibilidade para obter recomendações para um site específico do Anonymous Motif (AM). Para fazer isso, basta inserir o rótulo do site no método `RecommenderSystem.get_recommendation_for_site`. Esta abordagem permite uma exploração mais direcionada de potenciais substituições iônicas."
   ]
  },
  {
   "cell_type": "code",
   "execution_count": 15,
   "metadata": {},
   "outputs": [
    {
     "data": {
      "text/plain": [
       "[(191, 9, (1, '6/mmm'), 0)\n",
       " site index: 0,\n",
       " (191, 9, (1, '6/mmm'), 0)\n",
       " site index: 3,\n",
       " (191, 9, (3, 'mmm'), 0)\n",
       " site index: 6,\n",
       " (191, 9, (4, '3m'), 0)\n",
       " site index: 1]"
      ]
     },
     "execution_count": 15,
     "metadata": {},
     "output_type": "execute_result"
    }
   ],
   "source": [
    "kagome_AM.sites"
   ]
  },
  {
   "cell_type": "code",
   "execution_count": 16,
   "metadata": {},
   "outputs": [
    {
     "data": {
      "text/plain": [
       "[('V', 0.03470265865325928, False),\n",
       " ('Nb', 0.07285189628601074, False),\n",
       " ('Ta', 0.08547395467758179, False),\n",
       " ('Mn', 0.08579063415527344, False),\n",
       " ('Ti', 0.09940117597579956, True),\n",
       " ('Cr', 0.10330319404602051, False),\n",
       " ('Mo', 0.1266164779663086, False),\n",
       " ('Re', 0.13882142305374146, True),\n",
       " ('Fe', 0.15163779258728027, False),\n",
       " ('Hf', 0.1933293342590332, True)]"
      ]
     },
     "execution_count": 16,
     "metadata": {},
     "output_type": "execute_result"
    }
   ],
   "source": [
    "C_site_label = kagome_AM.sites[2].label\n",
    "# top_n defined to get the top 10 recommendations ranked by the ion-site distance\n",
    "rs.get_recommendation_for_site(C_site_label, top_n=10) "
   ]
  },
  {
   "cell_type": "code",
   "execution_count": 17,
   "metadata": {},
   "outputs": [
    {
     "data": {
      "text/plain": [
       "[('Ti', 0.09940117597579956, True),\n",
       " ('Re', 0.13882142305374146, True),\n",
       " ('Hf', 0.1933293342590332, True)]"
      ]
     },
     "execution_count": 17,
     "metadata": {},
     "output_type": "execute_result"
    }
   ],
   "source": [
    "# Only new ion-site occupations added to filter recommendations\n",
    "rs.get_recommendation_for_site(C_site_label, top_n=10, only_new=True) "
   ]
  },
  {
   "cell_type": "markdown",
   "metadata": {},
   "source": [
    "### 1.2 Atomic substitutions for a structure defined on a CIF file"
   ]
  },
  {
   "cell_type": "markdown",
   "metadata": {},
   "source": [
    "Também pode haver situações em que não temos um ID OQMD para o protótipo estrutural que desejamos investigar, mas temos um arquivo CIF. Por exemplo, suponha que estejamos interessados em explorar possíveis substituições iônicas no [mineral Jakobssonita](https://www.mindat.org/min-42796.html), um composto com composição $\\text{CaAlF}_5$.\n",
    "\n",
    "<p alinhar=\"centro\">\n",
    "      <img src=\"etc/jakobssonite.png\" alt=\"Estrutura cristalina de CaAlF5\" width=\"65%\" class=\"center\"> \n",
    "</p>\n",
    "\n",
    "Usando o arquivo CIF fornecido pela Mindat, podemos carregar a estrutura cristalina Jakobssonita como um objeto Pymatgen `Structure`. Essa estrutura pode então ser alimentada no objeto `OccupationData`, que por sua vez gera seu correspondente `AnonymousMotif`. Armados com este `AnonymousMotif`, podemos prosseguir para gerar recomendações de substituição iônica para cada site da estrutura."
   ]
  },
  {
   "cell_type": "code",
   "execution_count": 18,
   "metadata": {},
   "outputs": [
    {
     "data": {
      "text/plain": [
       "Structure Summary\n",
       "Lattice\n",
       "    abc : 8.712 6.317 7.349\n",
       " angles : 90.0 115.04000000000003 90.0\n",
       " volume : 366.4301426035834\n",
       "      A : 7.89318110031551 0.0 -3.6873616743712625\n",
       "      B : 1.0158510778007315e-15 6.317 3.868046915106915e-16\n",
       "      C : 0.0 0.0 7.349\n",
       "    pbc : True True True\n",
       "PeriodicSite: Ca (5.51e-16, 3.426, 1.837) [0.0, 0.5424, 0.25]\n",
       "PeriodicSite: Ca (3.947, 0.2678, -0.006431) [0.5, 0.0424, 0.25]\n",
       "PeriodicSite: Ca (4.649e-16, 2.891, 5.512) [0.0, 0.4576, 0.75]\n",
       "PeriodicSite: Ca (3.947, 6.049, 3.668) [0.5, 0.9576, 0.75]\n",
       "PeriodicSite: Al (0.0, 0.0, 0.0) [0.0, 0.0, 0.0]\n",
       "PeriodicSite: Al (3.947, 3.159, -1.844) [0.5, 0.5, 0.0]\n",
       "PeriodicSite: Al (0.0, 0.0, 3.675) [0.0, 0.0, 0.5]\n",
       "PeriodicSite: Al (3.947, 3.159, 1.831) [0.5, 0.5, 0.5]\n",
       "PeriodicSite: F1 (F) (9.571e-16, 5.952, 1.837) [0.0, 0.9422, 0.25]\n",
       "PeriodicSite: F1 (F) (3.947, 2.793, -0.006431) [0.5, 0.4422, 0.25]\n",
       "PeriodicSite: F1 (F) (5.872e-17, 0.3651, 5.512) [0.0, 0.0578, 0.75]\n",
       "PeriodicSite: F1 (F) (3.947, 3.524, 3.668) [0.5, 0.5578, 0.75]\n",
       "PeriodicSite: F2 (F) (0.08998, 4.529, 7.114) [0.0114, 0.7169, 0.9737]\n",
       "PeriodicSite: F2 (F) (4.037, 1.37, 5.27) [0.5114, 0.2169, 0.9737]\n",
       "PeriodicSite: F2 (F) (0.08998, 1.788, 3.439) [0.0114, 0.2831, 0.4737]\n",
       "PeriodicSite: F2 (F) (4.037, 4.947, 1.596) [0.5114, 0.7831, 0.4737]\n",
       "PeriodicSite: F2 (F) (7.803, 4.529, 0.2225) [0.9886, 0.7169, 0.5263]\n",
       "PeriodicSite: F2 (F) (3.857, 1.37, 2.066) [0.4886, 0.2169, 0.5263]\n",
       "PeriodicSite: F2 (F) (7.803, 1.788, -3.452) [0.9886, 0.2831, 0.0263]\n",
       "PeriodicSite: F2 (F) (3.857, 4.947, -1.608) [0.4886, 0.7831, 0.0263]\n",
       "PeriodicSite: F3 (F) (6.148, 6.205, 3.646) [0.7789, 0.9822, 0.887]\n",
       "PeriodicSite: F3 (F) (2.201, 3.046, 5.49) [0.2789, 0.4822, 0.887]\n",
       "PeriodicSite: F3 (F) (6.148, 0.1124, -0.02802) [0.7789, 0.0178, 0.387]\n",
       "PeriodicSite: F3 (F) (2.201, 3.271, 1.816) [0.2789, 0.5178, 0.387]\n",
       "PeriodicSite: F3 (F) (1.745, 6.205, 3.69) [0.2211, 0.9822, 0.613]\n",
       "PeriodicSite: F3 (F) (5.692, 3.046, 1.846) [0.7211, 0.4822, 0.613]\n",
       "PeriodicSite: F3 (F) (1.745, 0.1124, 0.01516) [0.2211, 0.0178, 0.113]\n",
       "PeriodicSite: F3 (F) (5.692, 3.271, -1.829) [0.7211, 0.5178, 0.113]"
      ]
     },
     "execution_count": 18,
     "metadata": {},
     "output_type": "execute_result"
    }
   ],
   "source": [
    "jakobssonite_structure = Structure.from_file('etc/jakobssonite.cif')\n",
    "jakobssonite_structure"
   ]
  },
  {
   "cell_type": "code",
   "execution_count": 19,
   "metadata": {},
   "outputs": [
    {
     "data": {
      "text/plain": [
       "(15, 14, [(2, '-1'), (2, '2'), (2, '2'), (4, '1'), (4, '1')], 0)"
      ]
     },
     "execution_count": 19,
     "metadata": {},
     "output_type": "execute_result"
    }
   ],
   "source": [
    "jakobssonite_AM = occupation_data.get_AM_from_structure(jakobssonite_structure)\n",
    "jakobssonite_AM"
   ]
  },
  {
   "cell_type": "code",
   "execution_count": 20,
   "metadata": {},
   "outputs": [
    {
     "data": {
      "text/plain": [
       "{'15_14_2(-1)_2(2)_2(2)_4(1)_4(1)_0[0:2(-1)]': [('Na',\n",
       "   0.03471493721008301,\n",
       "   False),\n",
       "  ('K', 0.04308205842971802, False),\n",
       "  ('Rb', 0.07844400405883789, False),\n",
       "  ('Cs', 0.11494922637939453, True),\n",
       "  ('Tl', 0.14745205640792847, False),\n",
       "  ('Li', 0.21496635675430298, False),\n",
       "  ('Ba', 0.30862218141555786, True)],\n",
       " '15_14_2(-1)_2(2)_2(2)_4(1)_4(1)_0[1:2(2)]': [('B',\n",
       "   0.0044931769371032715,\n",
       "   False),\n",
       "  ('C', 0.16621392965316772, True),\n",
       "  ('Al', 0.3119314908981323, False),\n",
       "  ('Pt', 0.317658007144928, True),\n",
       "  ('Si', 0.3232836127281189, True),\n",
       "  ('Ga', 0.3240598440170288, True),\n",
       "  ('N', 0.32569217681884766, True)],\n",
       " '15_14_2(-1)_2(2)_2(2)_4(1)_4(1)_0[2:2(2)]': [('S',\n",
       "   0.012279212474822998,\n",
       "   False),\n",
       "  ('Se', 0.022431671619415283, False),\n",
       "  ('Te', 0.12491989135742188, False)],\n",
       " '15_14_2(-1)_2(2)_2(2)_4(1)_4(1)_0[3:4(1)]': [('K',\n",
       "   0.05715596675872803,\n",
       "   False),\n",
       "  ('Na', 0.0644150972366333, False),\n",
       "  ('Rb', 0.07851749658584595, False),\n",
       "  ('Cs', 0.14788156747817993, True),\n",
       "  ('Tl', 0.2143227458000183, True),\n",
       "  ('Li', 0.22979038953781128, False),\n",
       "  ('Sr', 0.2826748490333557, True),\n",
       "  ('Ba', 0.29637229442596436, True),\n",
       "  ('Eu', 0.31076884269714355, True)],\n",
       " '15_14_2(-1)_2(2)_2(2)_4(1)_4(1)_0[4:4(1)]': [('S',\n",
       "   0.011774718761444092,\n",
       "   False),\n",
       "  ('Se', 0.024443447589874268, False),\n",
       "  ('Te', 0.1323070526123047, False)]}"
      ]
     },
     "execution_count": 20,
     "metadata": {},
     "output_type": "execute_result"
    }
   ],
   "source": [
    "jakobssonite_recommendations = rs.get_recommendation_for_AM(jakobssonite_AM)\n",
    "jakobssonite_recommendations"
   ]
  },
  {
   "cell_type": "markdown",
   "metadata": {},
   "source": [
    "## 2. Recomendações ao longo da hiperdireção estrutural"
   ]
  },
  {
   "cell_type": "markdown",
   "metadata": {},
   "source": [
    "### 2.1. Novas estruturas cristalinas para AlCd"
   ]
  },
  {
   "cell_type": "markdown",
   "metadata": {},
   "source": [
    "Podemos extrair recomendações de estruturas cristalinas para um determinado composto químico. Isso é possível graças ao método `get_recommendation_for_compound()`. Vamos demonstrá-lo para o caso do composto químico binário AlCd. O [sistema binário Al-Cd] (https://www.oqmd.org/materials/composition/Al-Cd) não possui materiais estáveis ​​em DFT nem quaisquer compostos experimentalmente conhecidos/realizados."
   ]
  },
  {
   "cell_type": "code",
   "execution_count": 21,
   "metadata": {
    "scrolled": true
   },
   "outputs": [],
   "source": [
    "AlCd_recs = rs.get_recommendation_for_compound(formula='AlCd', top_n= 700)"
   ]
  },
  {
   "cell_type": "markdown",
   "metadata": {},
   "source": [
    "Abaixo imprimimos as recomendações com uma soma das distâncias átomos do AMSite menor que 0,4. Isso equivale a quatro recomendações, com grupos espaciais Pbcm (57), C2/m (12) e Pnma (62), nenhum deles presente na base de dados OQMD."
   ]
  },
  {
   "cell_type": "code",
   "execution_count": 22,
   "metadata": {},
   "outputs": [
    {
     "data": {
      "text/html": [
       "<div>\n",
       "<style scoped>\n",
       "    .dataframe tbody tr th:only-of-type {\n",
       "        vertical-align: middle;\n",
       "    }\n",
       "\n",
       "    .dataframe tbody tr th {\n",
       "        vertical-align: top;\n",
       "    }\n",
       "\n",
       "    .dataframe thead th {\n",
       "        text-align: right;\n",
       "    }\n",
       "</style>\n",
       "<table border=\"1\" class=\"dataframe\">\n",
       "  <thead>\n",
       "    <tr style=\"text-align: right;\">\n",
       "      <th></th>\n",
       "      <th>formula</th>\n",
       "      <th>AM</th>\n",
       "      <th>AM_label</th>\n",
       "      <th>atom_AMsites</th>\n",
       "      <th>oxidation_states</th>\n",
       "      <th>sum_SiteAtom_dists</th>\n",
       "      <th>novelty_fraction</th>\n",
       "    </tr>\n",
       "  </thead>\n",
       "  <tbody>\n",
       "    <tr>\n",
       "      <th>3</th>\n",
       "      <td>AlCd</td>\n",
       "      <td>(57, 8, [(4, 'm'), (4, 'm')], 4)</td>\n",
       "      <td>57_8_4(m)_4(m)_4</td>\n",
       "      <td>[Cd, Al]</td>\n",
       "      <td>[]</td>\n",
       "      <td>0.268250</td>\n",
       "      <td>1.0</td>\n",
       "    </tr>\n",
       "    <tr>\n",
       "      <th>2</th>\n",
       "      <td>AlCd</td>\n",
       "      <td>(12, 4, [(2, 'm'), (2, 'm')], 0)</td>\n",
       "      <td>12_4_2(m)_2(m)_0</td>\n",
       "      <td>[Cd, Al]</td>\n",
       "      <td>[]</td>\n",
       "      <td>0.280006</td>\n",
       "      <td>0.5</td>\n",
       "    </tr>\n",
       "    <tr>\n",
       "      <th>0</th>\n",
       "      <td>AlCd</td>\n",
       "      <td>(62, 8, [(4, 'm'), (4, 'm')], 2)</td>\n",
       "      <td>62_8_4(m)_4(m)_2</td>\n",
       "      <td>[Cd, Al]</td>\n",
       "      <td>[]</td>\n",
       "      <td>0.325816</td>\n",
       "      <td>0.5</td>\n",
       "    </tr>\n",
       "    <tr>\n",
       "      <th>1</th>\n",
       "      <td>AlCd</td>\n",
       "      <td>(62, 8, [(4, 'm'), (4, 'm')], 2)</td>\n",
       "      <td>62_8_4(m)_4(m)_2</td>\n",
       "      <td>[Al, Cd]</td>\n",
       "      <td>[]</td>\n",
       "      <td>0.342469</td>\n",
       "      <td>0.5</td>\n",
       "    </tr>\n",
       "  </tbody>\n",
       "</table>\n",
       "</div>"
      ],
      "text/plain": [
       "  formula                                AM          AM_label atom_AMsites  \\\n",
       "3    AlCd  (57, 8, [(4, 'm'), (4, 'm')], 4)  57_8_4(m)_4(m)_4     [Cd, Al]   \n",
       "2    AlCd  (12, 4, [(2, 'm'), (2, 'm')], 0)  12_4_2(m)_2(m)_0     [Cd, Al]   \n",
       "0    AlCd  (62, 8, [(4, 'm'), (4, 'm')], 2)  62_8_4(m)_4(m)_2     [Cd, Al]   \n",
       "1    AlCd  (62, 8, [(4, 'm'), (4, 'm')], 2)  62_8_4(m)_4(m)_2     [Al, Cd]   \n",
       "\n",
       "  oxidation_states  sum_SiteAtom_dists  novelty_fraction  \n",
       "3               []            0.268250               1.0  \n",
       "2               []            0.280006               0.5  \n",
       "0               []            0.325816               0.5  \n",
       "1               []            0.342469               0.5  "
      ]
     },
     "execution_count": 22,
     "metadata": {},
     "output_type": "execute_result"
    }
   ],
   "source": [
    "df = DataFrame(AlCd_recs)\n",
    "df[ df.sum_SiteAtom_dists<0.4 ].sort_values(by=['sum_SiteAtom_dists'])"
   ]
  },
  {
   "cell_type": "markdown",
   "metadata": {},
   "source": [
    "## 3. Recomendações ao longo de hiperdireções híbridas composicionais-estruturais"
   ]
  },
  {
   "cell_type": "markdown",
   "metadata": {},
   "source": [
    "### 3.1. Recomendando sites para o átomo de vanádio"
   ]
  },
  {
   "cell_type": "markdown",
   "metadata": {},
   "source": [
    "Podemos recomendar sites AM para um átomo específico ocupar usando o método `get_recommendation_for_ion()`."
   ]
  },
  {
   "cell_type": "code",
   "execution_count": 23,
   "metadata": {},
   "outputs": [
    {
     "data": {
      "text/plain": [
       "[((187, 6, (1, '-6m2'), 5)\n",
       "  site index: 0,\n",
       "  0.038537442684173584,\n",
       "  True),\n",
       " ((187, 6, (1, '-6m2'), 5)\n",
       "  site index: 0,\n",
       "  0.04904705286026001,\n",
       "  True),\n",
       " ((129, 8, (2, '4mm'), 5)\n",
       "  site index: 2,\n",
       "  0.06081873178482056,\n",
       "  True),\n",
       " ((1, 23, (1, '1'), 7)\n",
       "  site index: 21,\n",
       "  0.06563454866409302,\n",
       "  True),\n",
       " ((1, 23, (1, '1'), 7)\n",
       "  site index: 21,\n",
       "  0.06583338975906372,\n",
       "  True),\n",
       " ((57, 16, (4, 'm'), 0)\n",
       "  site index: 12,\n",
       "  0.06810534000396729,\n",
       "  True),\n",
       " ((63, 8, (2, 'm2m'), 3)\n",
       "  site index: 6,\n",
       "  0.07121402025222778,\n",
       "  True),\n",
       " ((2, 12, (2, '1'), 16)\n",
       "  site index: 2,\n",
       "  0.07439231872558594,\n",
       "  True),\n",
       " ((2, 20, (1, '-1'), 0)\n",
       "  site index: 19,\n",
       "  0.07455205917358398,\n",
       "  True),\n",
       " ((12, 18, (2, 'm'), 1)\n",
       "  site index: 2,\n",
       "  0.07464230060577393,\n",
       "  True),\n",
       " ((12, 18, (2, 'm'), 1)\n",
       "  site index: 2,\n",
       "  0.07631582021713257,\n",
       "  True),\n",
       " ((12, 18, (1, '2/m'), 1)\n",
       "  site index: 0,\n",
       "  0.0766226053237915,\n",
       "  True),\n",
       " ((12, 18, (1, '2/m'), 1)\n",
       "  site index: 0,\n",
       "  0.0766453742980957,\n",
       "  True),\n",
       " ((2, 20, (1, '-1'), 0)\n",
       "  site index: 19,\n",
       "  0.0781019926071167,\n",
       "  True),\n",
       " ((146, 11, (3, '1'), 1)\n",
       "  site index: 3,\n",
       "  0.0784827470779419,\n",
       "  True),\n",
       " ((38, 6, (1, 'mm2'), 0)\n",
       "  site index: 2,\n",
       "  0.07869195938110352,\n",
       "  True)]"
      ]
     },
     "execution_count": 23,
     "metadata": {},
     "output_type": "execute_result"
    }
   ],
   "source": [
    "rs.get_recommendation_for_ion('V', top_n=200, only_new=True)"
   ]
  },
  {
   "cell_type": "markdown",
   "metadata": {},
   "source": [
    "### 3.2. Recomendação de locais para cobre que possuem geometria local coplanar quadrada"
   ]
  },
  {
   "cell_type": "markdown",
   "metadata": {},
   "source": [
    "Podemos restringir as recomendações de sítios AM a íons, especificando a geometria local dos sítios a serem recomendados. Os nomes dos ambientes de geometrias locais são definidos de acordo com as dimensões da impressão digital do CrystalNN. Eles podem ser acessados através do atributo `OccupationData` `cnn_labels_dict`."
   ]
  },
  {
   "cell_type": "code",
   "execution_count": 24,
   "metadata": {},
   "outputs": [
    {
     "data": {
      "text/plain": [
       "['wt CN_1',\n",
       " 'sgl_bd CN_1',\n",
       " 'wt CN_2',\n",
       " 'L-shaped CN_2',\n",
       " 'water-like CN_2',\n",
       " 'bent 120 degrees CN_2',\n",
       " 'bent 150 degrees CN_2',\n",
       " 'linear CN_2',\n",
       " 'wt CN_3',\n",
       " 'trigonal planar CN_3',\n",
       " 'trigonal non-coplanar CN_3',\n",
       " 'T-shaped CN_3',\n",
       " 'wt CN_4',\n",
       " 'square co-planar CN_4',\n",
       " 'tetrahedral CN_4',\n",
       " 'rectangular see-saw-like CN_4',\n",
       " 'see-saw-like CN_4',\n",
       " 'trigonal pyramidal CN_4',\n",
       " 'wt CN_5',\n",
       " 'pentagonal planar CN_5',\n",
       " 'square pyramidal CN_5',\n",
       " 'trigonal bipyramidal CN_5',\n",
       " 'wt CN_6',\n",
       " 'hexagonal planar CN_6',\n",
       " 'octahedral CN_6',\n",
       " 'pentagonal pyramidal CN_6',\n",
       " 'wt CN_7',\n",
       " 'hexagonal pyramidal CN_7',\n",
       " 'pentagonal bipyramidal CN_7',\n",
       " 'wt CN_8',\n",
       " 'body-centered cubic CN_8',\n",
       " 'hexagonal bipyramidal CN_8',\n",
       " 'wt CN_9',\n",
       " 'q2 CN_9',\n",
       " 'q4 CN_9',\n",
       " 'q6 CN_9',\n",
       " 'wt CN_10',\n",
       " 'q2 CN_10',\n",
       " 'q4 CN_10',\n",
       " 'q6 CN_10',\n",
       " 'wt CN_11',\n",
       " 'q2 CN_11',\n",
       " 'q4 CN_11',\n",
       " 'q6 CN_11',\n",
       " 'wt CN_12',\n",
       " 'cuboctahedral CN_12',\n",
       " 'q2 CN_12',\n",
       " 'q4 CN_12',\n",
       " 'q6 CN_12',\n",
       " 'wt CN_13',\n",
       " 'wt CN_14',\n",
       " 'wt CN_15',\n",
       " 'wt CN_16',\n",
       " 'wt CN_17',\n",
       " 'wt CN_18',\n",
       " 'wt CN_19',\n",
       " 'wt CN_20',\n",
       " 'wt CN_21',\n",
       " 'wt CN_22',\n",
       " 'wt CN_23',\n",
       " 'wt CN_24']"
      ]
     },
     "execution_count": 24,
     "metadata": {},
     "output_type": "execute_result"
    }
   ],
   "source": [
    "list(occupation_data.cnn_labels_dict.keys())"
   ]
  },
  {
   "cell_type": "markdown",
   "metadata": {},
   "source": [
    "Digamos que queremos novos sítios AM recomendados para Cu, mas com geometria local co-planar quadrada. Definimos uma pontuação mínima de 0,8 para a geometria dada."
   ]
  },
  {
   "cell_type": "code",
   "execution_count": 25,
   "metadata": {},
   "outputs": [
    {
     "data": {
      "text/plain": [
       "[((136, 14, (2, 'mmm'), 0)\n",
       "  site index: 8,\n",
       "  0.14990442991256714,\n",
       "  True),\n",
       " ((12, 12, (1, '2/m'), 7)\n",
       "  site index: 11,\n",
       "  0.1651182770729065,\n",
       "  True),\n",
       " ((12, 12, (1, '2/m'), 7)\n",
       "  site index: 11,\n",
       "  0.1692206859588623,\n",
       "  True),\n",
       " ((127, 18, (2, 'mmm'), 1)\n",
       "  site index: 16,\n",
       "  0.17258787155151367,\n",
       "  True)]"
      ]
     },
     "execution_count": 25,
     "metadata": {},
     "output_type": "execute_result"
    }
   ],
   "source": [
    "Cu_recs = rs.get_recommendation_for_ion('Cu', local_geometry=('square co-planar CN_4', 0.8), only_new=True)\n",
    "Cu_recs"
   ]
  },
  {
   "cell_type": "markdown",
   "metadata": {},
   "source": [
    "Para obter a estrutura do primeiro AMSite recomendado (índice de site 8) e dos sites equivalentes"
   ]
  },
  {
   "cell_type": "code",
   "execution_count": 26,
   "metadata": {},
   "outputs": [
    {
     "data": {
      "text/plain": [
       "[0, 0, 2, 2, 0, 0, 2, 2, 8, 8, 10, 10, 10, 10]"
      ]
     },
     "execution_count": 26,
     "metadata": {},
     "output_type": "execute_result"
    }
   ],
   "source": [
    "Cu_AM_label = Cu_recs[0][0].AM_label\n",
    "Cu_AM = occupation_data.get_AnonymousMotif(Cu_AM_label)\n",
    "Cu_AM_example_structure = Cu_AM.example_structure\n",
    "Cu_AM_equivalent_sites_index = Cu_AM.equivalent_sites_indexes\n",
    "Cu_AM_equivalent_sites_index"
   ]
  },
  {
   "cell_type": "code",
   "execution_count": 27,
   "metadata": {},
   "outputs": [
    {
     "data": {
      "text/plain": [
       "Structure Summary\n",
       "Lattice\n",
       "    abc : 5.826722 5.826722 8.265963\n",
       " angles : 90.0 90.0 90.0\n",
       " volume : 280.6351412913347\n",
       "      A : 5.826722 0.0 0.0\n",
       "      B : 0.0 5.826722 0.0\n",
       "      C : 0.0 0.0 8.265963\n",
       "    pbc : True True True\n",
       "PeriodicSite: C (1.178, 1.178, 0.0) [0.2021, 0.2021, 0.0]\n",
       "PeriodicSite: C (4.649, 4.649, 0.0) [0.7979, 0.7979, 0.0]\n",
       "PeriodicSite: C (0.0, 0.0, 1.666) [0.0, 0.0, 0.2015]\n",
       "PeriodicSite: C (2.913, 2.913, 2.467) [0.5, 0.5, 0.2985]\n",
       "PeriodicSite: C (4.091, 1.736, 4.133) [0.7021, 0.2979, 0.5]\n",
       "PeriodicSite: C (1.736, 4.091, 4.133) [0.2979, 0.7021, 0.5]\n",
       "PeriodicSite: C (2.913, 2.913, 5.799) [0.5, 0.5, 0.7015]\n",
       "PeriodicSite: C (0.0, 0.0, 6.6) [0.0, 0.0, 0.7985]\n",
       "PeriodicSite: C (0.0, 0.0, 0.0) [0.0, 0.0, 0.0]\n",
       "PeriodicSite: C (2.913, 2.913, 4.133) [0.5, 0.5, 0.5]\n",
       "PeriodicSite: C (2.913, 0.0, 2.066) [0.5, 0.0, 0.25]\n",
       "PeriodicSite: C (0.0, 2.913, 2.066) [0.0, 0.5, 0.25]\n",
       "PeriodicSite: C (2.913, 0.0, 6.199) [0.5, 0.0, 0.75]\n",
       "PeriodicSite: C (0.0, 2.913, 6.199) [0.0, 0.5, 0.75]"
      ]
     },
     "execution_count": 27,
     "metadata": {},
     "output_type": "execute_result"
    }
   ],
   "source": [
    "Cu_AM_example_structure"
   ]
  },
  {
   "cell_type": "markdown",
   "metadata": {},
   "source": [
    "Também podemos ter acesso aos ids do OQMD que apresentam este AM."
   ]
  },
  {
   "cell_type": "code",
   "execution_count": 28,
   "metadata": {},
   "outputs": [
    {
     "data": {
      "text/plain": [
       "[12415,\n",
       " 12416,\n",
       " 12881,\n",
       " 12882,\n",
       " 22733,\n",
       " 1347628,\n",
       " 1347810,\n",
       " 1348154,\n",
       " 1363514,\n",
       " 1382773,\n",
       " 1752433,\n",
       " 1752436]"
      ]
     },
     "execution_count": 28,
     "metadata": {},
     "output_type": "execute_result"
    }
   ],
   "source": [
    "Cu_AM.entries_ids"
   ]
  },
  {
   "cell_type": "markdown",
   "metadata": {},
   "source": [
    "Acessando a [primeira entrada com id 12415](https://oqmd.org/materials/entry/12415), podemos visualizar um exemplo da estrutura cristalina do AM e os sítios de geometria co-planar que foram recomendados para o íon Cu ocupar .\n",
    "\n",
    "<img src=\"etc/Rb2H4Pt.png\" alt=\"Estrutura cristalina de Rb2H4Pt\" class=\"center\" width=\"65%\" height=\"auto\">"
   ]
  },
  {
   "cell_type": "markdown",
   "metadata": {},
   "source": [
    "### 3.3. Recomendando novos compostos no sistema binário In-Co"
   ]
  },
  {
   "cell_type": "markdown",
   "metadata": {},
   "source": [
    "Além disso, com o método `get_recommendation_for_chemsys()` também podemos explorar sistemas químicos definidos pelo usuário. Vamos demonstrar isso com o [sistema binário In-Co](https://www.oqmd.org/materials/composition/Co-In). Este sistema possui 2 fases experimentais conhecidas: In<sub>3</sub>Co (P2/mnm) e In<sub>2</sub>Co (Fddd)."
   ]
  },
  {
   "cell_type": "code",
   "execution_count": 29,
   "metadata": {},
   "outputs": [],
   "source": [
    "InCo_recs = rs.get_recommendation_for_chemsys(elements=['In','Co'], top_n= 700)"
   ]
  },
  {
   "cell_type": "markdown",
   "metadata": {},
   "source": [
    "Abaixo imprimimos as recomendações com uma soma das distâncias átomos do AMSite menor que 0,4. Isto resulta em 7 recomendações, duas das quais correspondem a estequiometrias não presentes no OQMD: In<sub>9</sub>Co<sub>2</sub> com grupo espacial P2/m (10), e In<sub> 10</sub>Co com grupo espacial P4/mmm (123). Curiosamente, essas duas novas estequiometrias têm uma pequena \"soma das distâncias AMSite-átomo\", o que sugere que podem ser estáveis ​​em DFT."
   ]
  },
  {
   "cell_type": "code",
   "execution_count": 30,
   "metadata": {},
   "outputs": [
    {
     "data": {
      "text/html": [
       "<div>\n",
       "<style scoped>\n",
       "    .dataframe tbody tr th:only-of-type {\n",
       "        vertical-align: middle;\n",
       "    }\n",
       "\n",
       "    .dataframe tbody tr th {\n",
       "        vertical-align: top;\n",
       "    }\n",
       "\n",
       "    .dataframe thead th {\n",
       "        text-align: right;\n",
       "    }\n",
       "</style>\n",
       "<table border=\"1\" class=\"dataframe\">\n",
       "  <thead>\n",
       "    <tr style=\"text-align: right;\">\n",
       "      <th></th>\n",
       "      <th>formula</th>\n",
       "      <th>AM</th>\n",
       "      <th>AM_label</th>\n",
       "      <th>atom_AMsites</th>\n",
       "      <th>oxidation_states</th>\n",
       "      <th>sum_SiteAtom_dists</th>\n",
       "      <th>novelty_fraction</th>\n",
       "    </tr>\n",
       "  </thead>\n",
       "  <tbody>\n",
       "    <tr>\n",
       "      <th>8</th>\n",
       "      <td>In9Co2</td>\n",
       "      <td>(10, 11, [(1, '2/m'), (2, 'm'), (2, 'm'), (2, ...</td>\n",
       "      <td>10_11_1(2/m)_2(m)_2(m)_2(m)_2(m)_2(m)_0</td>\n",
       "      <td>[In, Co, In, In, In, In]</td>\n",
       "      <td>[]</td>\n",
       "      <td>0.103411</td>\n",
       "      <td>0.0</td>\n",
       "    </tr>\n",
       "    <tr>\n",
       "      <th>3</th>\n",
       "      <td>In3Co</td>\n",
       "      <td>(136, 16, [(4, '2/m'), (4, 'm2m'), (8, 'm')], 0)</td>\n",
       "      <td>136_16_4(2/m)_4(m2m)_8(m)_0</td>\n",
       "      <td>[In, Co, In]</td>\n",
       "      <td>[]</td>\n",
       "      <td>0.113033</td>\n",
       "      <td>0.0</td>\n",
       "    </tr>\n",
       "    <tr>\n",
       "      <th>10</th>\n",
       "      <td>In10Co</td>\n",
       "      <td>(123, 11, [(1, '4/mmm'), (2, 'mmm'), (2, '4mm'...</td>\n",
       "      <td>123_11_1(4/mmm)_2(mmm)_2(4mm)_2(4mm)_4(2mm)_0</td>\n",
       "      <td>[Co, In, In, In, In]</td>\n",
       "      <td>[]</td>\n",
       "      <td>0.133173</td>\n",
       "      <td>0.0</td>\n",
       "    </tr>\n",
       "    <tr>\n",
       "      <th>0</th>\n",
       "      <td>InCo</td>\n",
       "      <td>(57, 8, [(4, 'm'), (4, 'm')], 2)</td>\n",
       "      <td>57_8_4(m)_4(m)_2</td>\n",
       "      <td>[Co, In]</td>\n",
       "      <td>[]</td>\n",
       "      <td>0.223490</td>\n",
       "      <td>1.0</td>\n",
       "    </tr>\n",
       "    <tr>\n",
       "      <th>9</th>\n",
       "      <td>In3Co2</td>\n",
       "      <td>(164, 5, [(1, '-3m'), (2, '3m'), (2, '3m')], 3)</td>\n",
       "      <td>164_5_1(-3m)_2(3m)_2(3m)_3</td>\n",
       "      <td>[In, Co, In]</td>\n",
       "      <td>[]</td>\n",
       "      <td>0.232919</td>\n",
       "      <td>0.0</td>\n",
       "    </tr>\n",
       "    <tr>\n",
       "      <th>6</th>\n",
       "      <td>In4Co</td>\n",
       "      <td>(229, 5, [(1, 'm-3m'), (4, '-3m')], 0)</td>\n",
       "      <td>229_5_1(m-3m)_4(-3m)_0</td>\n",
       "      <td>[Co, In]</td>\n",
       "      <td>[]</td>\n",
       "      <td>0.291753</td>\n",
       "      <td>1.0</td>\n",
       "    </tr>\n",
       "    <tr>\n",
       "      <th>1</th>\n",
       "      <td>In2Co</td>\n",
       "      <td>(123, 3, [(1, '4/mmm'), (2, '4mm')], 0)</td>\n",
       "      <td>123_3_1(4/mmm)_2(4mm)_0</td>\n",
       "      <td>[Co, In]</td>\n",
       "      <td>[]</td>\n",
       "      <td>0.299549</td>\n",
       "      <td>1.0</td>\n",
       "    </tr>\n",
       "  </tbody>\n",
       "</table>\n",
       "</div>"
      ],
      "text/plain": [
       "   formula                                                 AM  \\\n",
       "8   In9Co2  (10, 11, [(1, '2/m'), (2, 'm'), (2, 'm'), (2, ...   \n",
       "3    In3Co   (136, 16, [(4, '2/m'), (4, 'm2m'), (8, 'm')], 0)   \n",
       "10  In10Co  (123, 11, [(1, '4/mmm'), (2, 'mmm'), (2, '4mm'...   \n",
       "0     InCo                   (57, 8, [(4, 'm'), (4, 'm')], 2)   \n",
       "9   In3Co2    (164, 5, [(1, '-3m'), (2, '3m'), (2, '3m')], 3)   \n",
       "6    In4Co             (229, 5, [(1, 'm-3m'), (4, '-3m')], 0)   \n",
       "1    In2Co            (123, 3, [(1, '4/mmm'), (2, '4mm')], 0)   \n",
       "\n",
       "                                         AM_label              atom_AMsites  \\\n",
       "8         10_11_1(2/m)_2(m)_2(m)_2(m)_2(m)_2(m)_0  [In, Co, In, In, In, In]   \n",
       "3                     136_16_4(2/m)_4(m2m)_8(m)_0              [In, Co, In]   \n",
       "10  123_11_1(4/mmm)_2(mmm)_2(4mm)_2(4mm)_4(2mm)_0      [Co, In, In, In, In]   \n",
       "0                                57_8_4(m)_4(m)_2                  [Co, In]   \n",
       "9                      164_5_1(-3m)_2(3m)_2(3m)_3              [In, Co, In]   \n",
       "6                          229_5_1(m-3m)_4(-3m)_0                  [Co, In]   \n",
       "1                         123_3_1(4/mmm)_2(4mm)_0                  [Co, In]   \n",
       "\n",
       "   oxidation_states  sum_SiteAtom_dists  novelty_fraction  \n",
       "8                []            0.103411               0.0  \n",
       "3                []            0.113033               0.0  \n",
       "10               []            0.133173               0.0  \n",
       "0                []            0.223490               1.0  \n",
       "9                []            0.232919               0.0  \n",
       "6                []            0.291753               1.0  \n",
       "1                []            0.299549               1.0  "
      ]
     },
     "execution_count": 30,
     "metadata": {},
     "output_type": "execute_result"
    }
   ],
   "source": [
    "df = DataFrame(InCo_recs)\n",
    "df[ df.sum_SiteAtom_dists<0.4 ].sort_values(by=['sum_SiteAtom_dists'])"
   ]
  }
 ],
 "metadata": {
  "kernelspec": {
   "display_name": "Python 3 (ipykernel)",
   "language": "python",
   "name": "python3"
  },
  "language_info": {
   "codemirror_mode": {
    "name": "ipython",
    "version": 3
   },
   "file_extension": ".py",
   "mimetype": "text/x-python",
   "name": "python",
   "nbconvert_exporter": "python",
   "pygments_lexer": "ipython3",
   "version": "3.11.9"
  }
 },
 "nbformat": 4,
 "nbformat_minor": 4
}
